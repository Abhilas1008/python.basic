{
 "cells": [
  {
   "cell_type": "code",
   "execution_count": null,
   "id": "efa7858d-390d-4a44-ab8b-99c2a8eb2a26",
   "metadata": {},
   "outputs": [],
   "source": [
    "# 1.Explain the key features of python that make it a popular choice of programming?\n",
    "\n",
    "# Ans: \n",
    "'''Python features: Python is a dynamic , high-level , free open source, and interpreted programming language.\n",
    " It supports object-oriented programming language as well as procedural-oriented programming.\n",
    " \n",
    "Features in PYTHON:\n",
    "\n",
    "1.free and open source : Python language is freely available at the official website and you can download from there.\n",
    "Since it is open-source, tis means that source code is also available to the public, so you can download, share and use\n",
    "it.\n",
    "\n",
    "2.Easy to code: Python is a high-level programming language. it is very easy to learn the language as compared to other \n",
    "languages like C, C++, Java script java etc. it is very easy to code in the python langage and anybody can learn python \n",
    "basics in fer hours or days. it is also developer friendly language.\n",
    "\n",
    "3.Easy to Read: learing python is quite simple. python syntax is really straightforward.\n",
    "\n",
    "4.Object-Oriented Language: One of the key feature of pythion is object-oriented programming. Python supports object-\n",
    "oriented language and concepts of classes, object encapsulation, etc.\n",
    "\n",
    "5.GUI programming support: Graphical user interfaces can be made using a module such as PyQt5, PyQt4, wxPythonor Tk in\n",
    "python. PyQt5 is the most popular option for creating graphical apps with python.\n",
    "\n",
    "6.High level Language: python is high-level language. when we write programs in python, we do not need to remember the \n",
    "system architecture, nor do we need to manage the memory.\n",
    "\n",
    "7.Large Community Support: python has gained popularity over the years.\n",
    "\n",
    "8.Easy to debug: Excellent information for mistake tracking, you will be able to quickly identify and correct the majority\n",
    "of your program's error traces.Simply by glacing at the code, you can determine what it is designed to perform.\n",
    "\n",
    "9.Python is a portable language: it is also a portable language. for example: if we have pythoncode for windows and if \n",
    "we want to run this code on other platforms such as linux, unix and mac then we do not need to change it, we can run this \n",
    "code on any platform.\n",
    "\n",
    "10.Python is as integrated language: python is also integrated language because we can easily integrate python with other language like C, \n",
    "C++ etc.\n",
    "\n",
    "11.Interpreted Language: python is an interpreted language because python code is executed by line at a time.like other\n",
    "language C, C++, Java etc. there is no need to complile python code this makes it easier to bedug our code.the source \n",
    "code of python is converted into an immediate from called bytecode.\n",
    "\n",
    "\n",
    "12.Large Standard library:\n",
    "Python has a large standard library that provides a rich set of modules and functions so you do not have to write your \n",
    "own code for every single things. there are many libraries present in python.\n",
    "\n",
    "13.Dynamically typed language: python is a dynamically typed language. that means the type(for example- int, double, long\n",
    "etc.) for a variable is decided at run time not in advance because of this feature we do not need to specify the type\n",
    "of variable.\n",
    "\n",
    "14.Frontend and Backend development: we can run and write a python codes in HTML with the help of some simple tags\n",
    "<py.script>, <py.env>, etc.this will help you do frinted development work in python like javascript. Backed is the strong\n",
    "forte of python. it's extensively used for this work cause of its frameworks.\n",
    "\n",
    "15.Allocating memory dynamically: In python, the variable data type does not need to be specified. The memory is auto-\n",
    "matically allocated to a variable at runtime when it is given a value.'''\n",
    "\n",
    "\n"
   ]
  },
  {
   "cell_type": "code",
   "execution_count": 7,
   "id": "31fd02df-250d-4202-bd72-6fa1ce8216bc",
   "metadata": {},
   "outputs": [
    {
     "name": "stdout",
     "output_type": "stream",
     "text": [
      "example of True, False, and, or, not keywords\n",
      "True\n",
      "True\n",
      "True\n"
     ]
    }
   ],
   "source": [
    "# 2. Describe the role of predefined keyword in python and provide examples of how they are used in a program.\n",
    "'''Ans : Python keywords are some predefined and reserved keywords in python that have special meanings. Keywords are used\n",
    "to define the syntax of the coding. The keyword cannot be used as an identifier, function or variable name. all the keyword in python\n",
    "are written in lowercase except True and Flase. There are many keyword in python.'''\n",
    "\n",
    "# Python keywords examples:\n",
    "\n",
    "# Ex1: Example of and, or , not , True, False keyword.'''\n",
    "print(\"example of True, False, and, or, not keywords\")\n",
    "# compare two operands using and operator.\n",
    "print(True and True)\n",
    "# compare two operands using or operator.\n",
    "print(True or False)\n",
    "# use of not operator\n",
    "print(not False)\n"
   ]
  },
  {
   "cell_type": "code",
   "execution_count": 2,
   "id": "cc317522-c33e-4aee-8c9a-e9c01ad0d973",
   "metadata": {},
   "outputs": [
    {
     "name": "stdout",
     "output_type": "stream",
     "text": [
      "1\n",
      "2\n",
      "3\n",
      "4\n",
      "5\n"
     ]
    }
   ],
   "source": [
    "# Ex2: Example of break , continue keywords.\n",
    "# execute for loop\n",
    "for i in range(1,11):\n",
    "#print the value of i\n",
    "    print(i)\n",
    "#     check the value of i is less than 5\n",
    "# if i lessthan 5 then continue loop\n",
    "    if i < 5 :\n",
    "        continue\n",
    "# if i greater than 5 then break loop\n",
    "    else:\n",
    "        break"
   ]
  },
  {
   "cell_type": "code",
   "execution_count": 5,
   "id": "8e5753e7-d1da-47f6-8659-f599db774ecd",
   "metadata": {},
   "outputs": [
    {
     "name": "stdout",
     "output_type": "stream",
     "text": [
      "one\n",
      "Two\n",
      "else block execute\n",
      "else block execute\n"
     ]
    }
   ],
   "source": [
    "# Ex3: Example of for , in , if, elif, and else keywords.\n",
    "# run the loop\n",
    "for t in range(1, 5):\n",
    "#     print one of t==1\n",
    "    if t == 1:\n",
    "        print(\"one\")\n",
    "#     print two if t == 2\n",
    "    elif t == 2 :\n",
    "        print(\"Two\")\n",
    "    else:\n",
    "        print(\"else block execute\")"
   ]
  },
  {
   "cell_type": "code",
   "execution_count": 13,
   "id": "e50ffd02-2588-43ae-a2d8-4433cea096fe",
   "metadata": {},
   "outputs": [
    {
     "name": "stdout",
     "output_type": "stream",
     "text": [
      "given number is even\n"
     ]
    }
   ],
   "source": [
    "# Ex4:Example of def, if, and else keywords.\n",
    "# define GFT() keyword usingdef keyword\n",
    "def GFG():\n",
    "    i = 20\n",
    "#     check i is odd or not\n",
    "# using if and else keyword\n",
    "    if(i % 2 == 0):\n",
    "        print(\"given number is even\")\n",
    "    else:\n",
    "        print(\"given number is odd\")\n",
    "#         call GFT() function\n",
    "GFG()"
   ]
  },
  {
   "cell_type": "code",
   "execution_count": 14,
   "id": "26a769b0-9c6a-4da2-a17c-7dda4edfbfba",
   "metadata": {},
   "outputs": [
    {
     "name": "stdout",
     "output_type": "stream",
     "text": [
      "0.1\n",
      "exception raises\n",
      "None\n"
     ]
    }
   ],
   "source": [
    "# Ex5: Example of try, except, raise.\n",
    "def fun(num):\n",
    "    try:\n",
    "        r = 1.0/num\n",
    "    except:\n",
    "        print(\"exception raises\")\n",
    "        return\n",
    "    return r\n",
    "print(fun(10))\n",
    "print(fun(0))"
   ]
  },
  {
   "cell_type": "code",
   "execution_count": 15,
   "id": "e253aee6-a748-4a00-b12e-497f410d1377",
   "metadata": {},
   "outputs": [
    {
     "name": "stdout",
     "output_type": "stream",
     "text": [
      "2\n",
      "3\n",
      "4\n",
      "5\n",
      "6\n"
     ]
    }
   ],
   "source": [
    "# Ex6: Example of a lambda keyword.\n",
    "# define a anonymous using lambda keyword\n",
    "# this lambda function increment the value of b\n",
    "a = lambda b : b+1\n",
    "# run a for loop\n",
    "for i in range(1, 6):\n",
    "    print(a(i))"
   ]
  },
  {
   "cell_type": "code",
   "execution_count": 17,
   "id": "a886a549-13ce-4f3d-9ee5-5fbc0a109502",
   "metadata": {},
   "outputs": [
    {
     "name": "stdout",
     "output_type": "stream",
     "text": [
      "5\n"
     ]
    }
   ],
   "source": [
    "# Ex7:use a return keyword\n",
    "# define a function\n",
    "def fun():\n",
    "#     declear a variable\n",
    "    a= 5\n",
    "# return the value of a\n",
    "    return a\n",
    "# call fun method and store\n",
    "# it's return value in a variable\n",
    "t = fun()\n",
    "# print the value of t\n",
    "print(t)"
   ]
  },
  {
   "cell_type": "code",
   "execution_count": 18,
   "id": "b61b0910-13a5-42e9-907d-139acf83c111",
   "metadata": {},
   "outputs": [
    {
     "name": "stdout",
     "output_type": "stream",
     "text": [
      "['a', 'b', 'c', 'd', 'e']\n",
      "['a', 'b', 'd', 'e']\n"
     ]
    }
   ],
   "source": [
    "# Ex8:use of a del keyword\n",
    "# create a list\n",
    "l = ['a', 'b', 'c', 'd', 'e']\n",
    "# print list before using del keyword\n",
    "print(l)\n",
    "del l[2]\n",
    "# print list after using del keyword\n",
    "print(l)"
   ]
  },
  {
   "cell_type": "code",
   "execution_count": 19,
   "id": "f6dfaf4a-28c7-4b89-a106-ad7c4674ac17",
   "metadata": {},
   "outputs": [
    {
     "name": "stdout",
     "output_type": "stream",
     "text": [
      "10\n"
     ]
    }
   ],
   "source": [
    "# Ex9: global keyword\n",
    "# declear a variable\n",
    "gvar = 10\n",
    "# create function \n",
    "def fun1():\n",
    "#     print the value of gvar\n",
    "    print(gvar)\n",
    "# declear fun2()\n",
    "def fun2():\n",
    "#     declear global value gvar\n",
    "    global gvar\n",
    "    gvar = 100\n",
    "# call fun1()\n",
    "fun1()\n",
    "# call fun2()\n",
    "fun2()"
   ]
  },
  {
   "cell_type": "code",
   "execution_count": 21,
   "id": "a681d8f2-8ed6-4ddd-a9d2-a73e873690dc",
   "metadata": {},
   "outputs": [
    {
     "name": "stdout",
     "output_type": "stream",
     "text": [
      "1\n",
      "2\n",
      "3\n",
      "4\n",
      "5\n",
      "6\n"
     ]
    }
   ],
   "source": [
    "# Ex10: yielf function\n",
    "def Generator():\n",
    "    for i in range(6):\n",
    "        yield i + 1\n",
    "t = Generator()\n",
    "for i in t:\n",
    "    print(i)"
   ]
  },
  {
   "cell_type": "code",
   "execution_count": 23,
   "id": "4ea5fbb4-9af3-49a6-b0a9-57cf305afc3a",
   "metadata": {},
   "outputs": [
    {
     "ename": "AssertionError",
     "evalue": "List is emply.",
     "output_type": "error",
     "traceback": [
      "\u001b[0;31m---------------------------------------------------------------------------\u001b[0m",
      "\u001b[0;31mAssertionError\u001b[0m                            Traceback (most recent call last)",
      "Cell \u001b[0;32mIn[23], line 6\u001b[0m\n\u001b[1;32m      4\u001b[0m     \u001b[38;5;28;01mreturn\u001b[39;00m \u001b[38;5;28msum\u001b[39m(money)\n\u001b[1;32m      5\u001b[0m money \u001b[38;5;241m=\u001b[39m []\n\u001b[0;32m----> 6\u001b[0m \u001b[38;5;28mprint\u001b[39m(\u001b[38;5;124m\"\u001b[39m\u001b[38;5;124msum of money:\u001b[39m\u001b[38;5;124m\"\u001b[39m, \u001b[43msumofmoney\u001b[49m\u001b[43m(\u001b[49m\u001b[43mmoney\u001b[49m\u001b[43m)\u001b[49m)\n",
      "Cell \u001b[0;32mIn[23], line 3\u001b[0m, in \u001b[0;36msumofmoney\u001b[0;34m(money)\u001b[0m\n\u001b[1;32m      2\u001b[0m \u001b[38;5;28;01mdef\u001b[39;00m \u001b[38;5;21msumofmoney\u001b[39m(money):\n\u001b[0;32m----> 3\u001b[0m     \u001b[38;5;28;01massert\u001b[39;00m \u001b[38;5;28mlen\u001b[39m(money) \u001b[38;5;241m!=\u001b[39m \u001b[38;5;241m0\u001b[39m, \u001b[38;5;124m\"\u001b[39m\u001b[38;5;124mList is emply.\u001b[39m\u001b[38;5;124m\"\u001b[39m\n\u001b[1;32m      4\u001b[0m     \u001b[38;5;28;01mreturn\u001b[39;00m \u001b[38;5;28msum\u001b[39m(money)\n",
      "\u001b[0;31mAssertionError\u001b[0m: List is emply."
     ]
    }
   ],
   "source": [
    "# Ex11: use of assert keyword\n",
    "def sumofmoney(money):\n",
    "    assert len(money) != 0, \"List is emply.\"\n",
    "    return sum(money)\n",
    "money = []\n",
    "print(\"sum of money:\", sumofmoney(money))"
   ]
  },
  {
   "cell_type": "code",
   "execution_count": 2,
   "id": "8859a6c4-f402-46f5-8c43-036124d63c3e",
   "metadata": {},
   "outputs": [],
   "source": [
    "# Ex 12 : pass keyword\n",
    "class GFG:\n",
    "    pass\n",
    "g = GFG"
   ]
  },
  {
   "cell_type": "code",
   "execution_count": 3,
   "id": "4d98ed70-6681-4151-a915-e8eefc4f0bae",
   "metadata": {},
   "outputs": [
    {
     "name": "stdout",
     "output_type": "stream",
     "text": [
      "inside try block\n",
      "inside finally block\n",
      "inside exception block\n",
      "inside finally block\n"
     ]
    }
   ],
   "source": [
    "# finally keyword\n",
    "def divide(a,b):\n",
    "    try:\n",
    "        c = a/b\n",
    "        print(\"inside try block\")\n",
    "    except :\n",
    "        print(\"inside exception block\")\n",
    "    finally :\n",
    "        print(\"inside finally block\")\n",
    "divide(3,2)\n",
    "divide(3,0)"
   ]
  },
  {
   "cell_type": "code",
   "execution_count": 29,
   "id": "da9625ed-7732-49cc-9414-96cd1eb01674",
   "metadata": {},
   "outputs": [
    {
     "name": "stdout",
     "output_type": "stream",
     "text": [
      "factorial of 5 is : 120\n",
      "False\n",
      "False\n",
      "gcd of 345 and 675 is :  15\n"
     ]
    }
   ],
   "source": [
    "# Ex14: import keyword , is keyword , from keyword\n",
    "import math\n",
    "print(\"factorial of 5 is :\", math.factorial(5))\n",
    "\n",
    "# is keyword\n",
    "x = 2\n",
    "y = 3\n",
    "z = 5\n",
    "print(x is z)\n",
    "print(x is y)\n",
    "\n",
    "# from keyword\n",
    "from math import gcd\n",
    "print(\"gcd of 345 and 675 is : \", gcd(345, 675))\n"
   ]
  },
  {
   "cell_type": "code",
   "execution_count": null,
   "id": "65c44255-de9b-43e1-9739-ce7275c71f57",
   "metadata": {},
   "outputs": [],
   "source": [
    "# 3. compare and contrast mutable and immutable object in python with example.\n",
    " # Ans:\n",
    "# mutable object\n",
    "'''Mutable objects in python are those that can be changed after they are created like, lists, set or dictionaries.\n",
    "A mutanle object is an entity whose value can be altered post its creation, imagine it as a whiteborad: you can write on it \n",
    ", erase your inscription and jot somthing new. this characteristic epitomizes mutable python variable.'''\n",
    "\n",
    "# example: \n",
    "my_list = [1,2,3,4]\n",
    "my_list[2] = 'a'\n",
    "\n",
    "my_dict = {'abhi': 'deep', 'age': 29}\n",
    "my_dict =['age']= 20\n",
    "\n",
    "my_set = {2,3,4}\n",
    "my_set.add(4)\n",
    "\n",
    "# immutable object\n",
    "'''immutable object in python those that can not be changed after they are created, such as strings , integers or tuple.\n",
    "an immutable object is an entity whose value remains constant post its creation. visualize it as a printd book: once printed,\n",
    "you can not simply erase a paragraph and overwrite it. the words are permanent and unalterable.'''\n",
    "\n",
    "# example\n",
    "# int\n",
    "num = 10\n",
    "# string\n",
    "st = \"hello world\"\n",
    "# tuple\n",
    "t = (1,2,3)\n",
    "\n"
   ]
  },
  {
   "cell_type": "code",
   "execution_count": 6,
   "id": "3cb26829-caa0-470e-8955-9b43af13bf3a",
   "metadata": {},
   "outputs": [
    {
     "name": "stdout",
     "output_type": "stream",
     "text": [
      "31\n",
      "11\n",
      "210\n",
      "2.1\n",
      "1\n",
      "16679880978201\n",
      "2\n",
      "False\n",
      "True\n",
      "False\n",
      "True\n",
      "False\n",
      "15\n",
      "10\n",
      "50\n",
      "10.0\n",
      "1.0\n",
      "0.0\n",
      "12\n",
      "61\n",
      "49\n",
      "-61\n",
      "240\n",
      "15\n",
      "both x and y are within the specified range\n",
      "yes, banana is a fruit\n",
      "x and y are not the same object\n"
     ]
    }
   ],
   "source": [
    "# 4. discuss the different type of operators in python and provide an example of how they are used.\n",
    "'''Ans: Operstors in python programing are the fundamental concepts hat are important to know. these operators are needed to\n",
    "perform various operations in python such as arithmatic calculations, logical evaluations, bitwise manipulations, etc.\n",
    "Types of operators:\n",
    "1. Arithmatic operators\n",
    "2. Comparison operators\n",
    "3. Assignmnent operators\n",
    "4. logical operators\n",
    "5. Bitwise operators\n",
    "6. Membership operators\n",
    "7. Identity operators'''\n",
    "\n",
    " # Arithmatic operators:\n",
    "'''addition +\n",
    "Subtraction-  \n",
    "Multiplication *\n",
    "Division /\n",
    "Modulus %\n",
    "Exponent **\n",
    "Floor Division 9/2 = 4 '''\n",
    "a = 21\n",
    "b = 10\n",
    "# addition\n",
    "print(a+b)\n",
    "# subtraction\n",
    "print(a-b)\n",
    "# multiplication\n",
    "print(a*b)\n",
    "# division\n",
    "print(a/b)\n",
    "# modulus\n",
    "print(a%b)\n",
    "# exponent\n",
    "print(a**b)\n",
    "# floor dicision\n",
    "print(a//b)\n",
    "\n",
    "\n",
    "# Comparison Operators\n",
    "'''equal ==\n",
    "not equal !=\n",
    "greater than >\n",
    "less than <\n",
    "greater than equal to >=\n",
    "less than equal to <= '''\n",
    "a = 4\n",
    "b = 5\n",
    "# equal \n",
    "print(a == b) \n",
    "# not equal \n",
    "print(a != b)\n",
    "# greater than \n",
    "print(a>b)\n",
    "# less than\n",
    "print(a<b) \n",
    "# gretaer than equal to\n",
    "print(a>=b)\n",
    "# less than equal to\n",
    "a<=b\n",
    "\n",
    "\n",
    "# Assignment operators\n",
    "'''Assignment operator =\n",
    "addition assignment +=\n",
    "subtraction assignment -=\n",
    "multiplication assignment *=\n",
    "division assignment /=\n",
    "remainder assignment %=\n",
    "Exponent Assignment **=\n",
    "Floor division assignment //= '''\n",
    "# assignment operator\n",
    "a = 10\n",
    "# addition assignment \n",
    "a += 5\n",
    "print(a)\n",
    "# subtraction assignment\n",
    "a -= 5\n",
    "print(a)\n",
    "# multiplication assignment\n",
    "a *= 5\n",
    "print(a)\n",
    "# division assignment\n",
    "a /= 5\n",
    "print(a)\n",
    "#remainder assignment\n",
    "a %= 3\n",
    "print(a)\n",
    "#exponent assignment\n",
    "a **= 2\n",
    "# floor division assignment\n",
    "a //= 3\n",
    "print(a)\n",
    "\n",
    "\n",
    "\n",
    "# Bitwise Operators\n",
    "'''binary AND\n",
    "Binary OR\n",
    "Binary XOR\n",
    "Binary Ones Complement ~\n",
    "Binary left Shift <<\n",
    "Binary Right Shift >> '''\n",
    "a = 60\n",
    "b = 13\n",
    "# binary AND\n",
    "c = a & b \n",
    "print(c)\n",
    "# Binary OR\n",
    "c = a | b\n",
    "print(c)\n",
    "# Binary XOR\n",
    "c = a ^ b\n",
    "print(c)\n",
    "# binary ones complement\n",
    "c = ~a;\n",
    "print(c)\n",
    "# binary left shift\n",
    "c = a << 2;\n",
    "print(c)\n",
    "# binary right shift \n",
    "c = a >> 2;\n",
    "print(c)\n",
    "\n",
    "\n",
    "\n",
    "# Logical operator\n",
    "''' and logical AND\n",
    "or logical OR\n",
    "not logical NOT'''\n",
    "x = 5\n",
    "y= 10\n",
    "if x> 3 and y < 15:\n",
    "    print(\"both x and y are within the specified range\")\n",
    "    \n",
    "    \n",
    "\n",
    "# membership operators\n",
    "'''\n",
    "in\n",
    "not in  \n",
    "'''\n",
    "fruits = ['apple', 'banana', 'cherry']\n",
    "if 'banana' in fruits :\n",
    "    print(\"yes, banana is a fruit\")\n",
    "else:\n",
    "    print(\"no, banana is not a fruit\")\n",
    "    \n",
    "    \n",
    "    \n",
    "# identity operators\n",
    "'''\n",
    "is\n",
    "is not\n",
    "'''\n",
    "x = 10\n",
    "y = 5\n",
    "if x is y:\n",
    "    print(\"x and y are the same object\")\n",
    "else: \n",
    "    print(\"x and y are not the same object\")"
   ]
  },
  {
   "cell_type": "code",
   "execution_count": 5,
   "id": "60dd5099-e227-4941-820e-e1aa43add748",
   "metadata": {},
   "outputs": [
    {
     "name": "stdout",
     "output_type": "stream",
     "text": [
      "<class 'str'>\n",
      "<class 'int'>\n"
     ]
    }
   ],
   "source": [
    "# 5. Explain the concept of type casting in python with example.\n",
    "'''Type casting, also referred to as type conversion in the process of changing one data type to another in python.\n",
    "python provides build-in function for type casting , such as int(), float(), str(), list(),tuple(), dict() etc.\n",
    "Type casting is often necessery for performing earthmatic operation, data manipulations, and input/output operations in python \n",
    "programs.'''\n",
    "# example\n",
    "a = '45'\n",
    "print(type(a))\n",
    "print(type(int(a)))"
   ]
  },
  {
   "cell_type": "code",
   "execution_count": 12,
   "id": "437a2155-ece4-4720-b495-6a16dbfab6a1",
   "metadata": {},
   "outputs": [
    {
     "name": "stdout",
     "output_type": "stream",
     "text": [
      "The number is negative\n"
     ]
    },
    {
     "data": {
      "text/plain": [
       "'in this example, we use an if-else statement to check if num is greater than 0. if it is, the message \"the number is \\npositive.\" is printed. if it is not(that is , num is negative or zero), the message \"The number is negative.\" is printed.'"
      ]
     },
     "execution_count": 12,
     "metadata": {},
     "output_type": "execute_result"
    }
   ],
   "source": [
    "# 6. How to conditional statement work in python?Illustrate with examples.\n",
    "'''Ans: Conditional statement are an essential part of programming in python. they allow you to make decisions based on the \n",
    "value of variables or the result of comparisons.'''\n",
    "num = -5\n",
    "if num > 0:\n",
    "    print(\"The number is positive\")\n",
    "else:\n",
    "    print(\"The number is negative\")\n",
    "'''in this example, we use an if-else statement to check if num is greater than 0. if it is, the message \"the number is \n",
    "positive.\" is printed. if it is not(that is , num is negative or zero), the message \"The number is negative.\" is printed.'''"
   ]
  },
  {
   "cell_type": "code",
   "execution_count": 3,
   "id": "81c0e476-c7b7-4ff4-8eec-dd0f2dd212d7",
   "metadata": {},
   "outputs": [
    {
     "name": "stdout",
     "output_type": "stream",
     "text": [
      "abhi\n",
      "singh\n",
      "parihar\n",
      "1\n",
      "2\n",
      "abhi 1\n",
      "abhi 2\n",
      "singh 1\n",
      "singh 2\n"
     ]
    }
   ],
   "source": [
    "# 7. Describe the different types of loop in python and their use cases with example.\n",
    "'''Ans: A loop is an instruction that repeats multiple times as long as some condition is met.\n",
    "Types of loops:\n",
    "1.For loop \n",
    "A for loop in python is used to iterate over a sequence(list, tuple, set, dictionary and string).'''\n",
    "# iterate through a list\n",
    "x = [\"abhi\", \"singh\", \"parihar\"]\n",
    "for i in x:\n",
    "    print(i)\n",
    "    \n",
    "'''\n",
    "2.While loop\n",
    "The while loop is used to execute a set of statement as long as a condition is true.'''\n",
    "# while loop\n",
    "x = 1 \n",
    "while x<3:\n",
    "    print(x)\n",
    "    x = x + 1\n",
    "    \n",
    "'''\n",
    "3.Nested Loop\n",
    "If a loop exists inside the body of another loop, it is called a nested loop.'''\n",
    "x = [\"abhi\", \"singh\"]\n",
    "num = [1,2]\n",
    "for i in x:\n",
    "    for j in num:\n",
    "        print(i, j)"
   ]
  },
  {
   "cell_type": "code",
   "execution_count": null,
   "id": "cdad5d46-bb72-4e1f-a7f1-5e10e14127a1",
   "metadata": {},
   "outputs": [],
   "source": []
  }
 ],
 "metadata": {
  "kernelspec": {
   "display_name": "Python 3 (ipykernel)",
   "language": "python",
   "name": "python3"
  },
  "language_info": {
   "codemirror_mode": {
    "name": "ipython",
    "version": 3
   },
   "file_extension": ".py",
   "mimetype": "text/x-python",
   "name": "python",
   "nbconvert_exporter": "python",
   "pygments_lexer": "ipython3",
   "version": "3.10.8"
  }
 },
 "nbformat": 4,
 "nbformat_minor": 5
}
